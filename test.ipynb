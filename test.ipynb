{
 "cells": [
  {
   "cell_type": "code",
   "execution_count": 5,
   "id": "80186b97",
   "metadata": {},
   "outputs": [
    {
     "name": "stdout",
     "output_type": "stream",
     "text": [
      "[8, 2, 4, 4, 5, 3, 3, 3, 5, 3, 1, 7, 9, 5, 9, 9, 3, 1, 6, 1]\n"
     ]
    }
   ],
   "source": [
    "import random\n",
    "l = []\n",
    "for i in range(20):\n",
    "    l.append(random.randint(1,10))\n",
    "    \n",
    "print (l)\n",
    "#trier les element d'une liste \n",
    "print(sorted(l))\n"
   ]
  },
  {
   "cell_type": "code",
   "execution_count": 12,
   "id": "01ff53ee",
   "metadata": {},
   "outputs": [
    {
     "name": "stdout",
     "output_type": "stream",
     "text": [
      "[1, 8, 5, 5, 10, 9, 4, 8, 9, 1, 5, 7, 9, 2, 3, 3, 1, 10, 7, 8]\n",
      "[1, 1, 1, 2, 3, 3, 4, 5, 5, 5, 7, 7, 8, 8, 8, 9, 9, 9, 10, 10]\n"
     ]
    }
   ],
   "source": [
    "import random\n",
    "l = [random.randint(1,10) for i in range(20)]\n",
    "print(l)\n",
    "#trier les elemnt d'une liste par une methode liee a l'objet par de faut il est croissante\n",
    "l.sort()\n",
    "print(l)\n",
    "#trier les elemnt d'une liste par une methode liee a l'objet décroissante \n",
    "l.sort(reverse=True)\n",
    "print(l)\n"
   ]
  },
  {
   "cell_type": "code",
   "execution_count": 8,
   "id": "50b7927f",
   "metadata": {},
   "outputs": [
    {
     "name": "stdout",
     "output_type": "stream",
     "text": [
      "[4, 4, 1, 4, 9, 2, 2, 8, 2, 5, 6, 10, 2, 10, 8, 7, 10, 10, 7, 2]\n"
     ]
    }
   ],
   "source": [
    "print([random.randint(1,10) for i in range(20)])"
   ]
  },
  {
   "cell_type": "code",
   "execution_count": 14,
   "id": "2fad13eb",
   "metadata": {},
   "outputs": [
    {
     "ename": "SyntaxError",
     "evalue": "invalid syntax (2341078403.py, line 2)",
     "output_type": "error",
     "traceback": [
      "\u001b[1;36m  Input \u001b[1;32mIn [14]\u001b[1;36m\u001b[0m\n\u001b[1;33m    print(sorted[random.randint(1,10) for i in range(20)])\u001b[0m\n\u001b[1;37m                                      ^\u001b[0m\n\u001b[1;31mSyntaxError\u001b[0m\u001b[1;31m:\u001b[0m invalid syntax\n"
     ]
    }
   ],
   "source": [
    "#trier les elements de list \n",
    "print(sorted[random.randint(1,10) for i in range(20)])"
   ]
  },
  {
   "cell_type": "code",
   "execution_count": 13,
   "id": "09d4ae5b",
   "metadata": {},
   "outputs": [
    {
     "name": "stdout",
     "output_type": "stream",
     "text": [
      "7\n"
     ]
    }
   ],
   "source": [
    "#Afficher le plus petit index qui correspond a l'element 5, si 5 est dans la liste\n",
    "if 5 in l:\n",
    "    print(l.index(5))"
   ]
  },
  {
   "cell_type": "code",
   "execution_count": 15,
   "id": "01ca9ead",
   "metadata": {},
   "outputs": [],
   "source": [
    "#trier et afficher la list"
   ]
  },
  {
   "cell_type": "code",
   "execution_count": 16,
   "id": "612dda71",
   "metadata": {},
   "outputs": [
    {
     "name": "stdout",
     "output_type": "stream",
     "text": [
      "[1, 1, 1, 2, 3, 3, 4, 5, 5, 5, 7, 7, 8, 8, 8, 9, 9, 9, 10, 10]\n",
      "[1, 1, 1, 2, 3, 20, 3, 4, 5, 5, 5, 7, 7, 8, 8, 8, 9, 9, 9, 10, 10]\n"
     ]
    }
   ],
   "source": [
    "#ajouter l'element 20 a la position 5\n",
    "#insert(position,valeur)\n",
    "print(l)\n",
    "l.insert(4,20)\n",
    "print(l)"
   ]
  },
  {
   "cell_type": "code",
   "execution_count": 18,
   "id": "df7aa6e3",
   "metadata": {},
   "outputs": [
    {
     "name": "stdout",
     "output_type": "stream",
     "text": [
      "[1, 1, 1, 2, 3, 20, 3, 4, 5, 5, 5, 7, 7, 8, 8, 8, 9, 9, 9, 10, 10]\n"
     ]
    }
   ],
   "source": [
    "#supprimer l'element 5 s'il est dans la list\n",
    "print(l)\n",
    "l.remove(4)"
   ]
  },
  {
   "cell_type": "code",
   "execution_count": null,
   "id": "e83bfcf4",
   "metadata": {},
   "outputs": [],
   "source": []
  }
 ],
 "metadata": {
  "kernelspec": {
   "display_name": "Python 3 (ipykernel)",
   "language": "python",
   "name": "python3"
  },
  "language_info": {
   "codemirror_mode": {
    "name": "ipython",
    "version": 3
   },
   "file_extension": ".py",
   "mimetype": "text/x-python",
   "name": "python",
   "nbconvert_exporter": "python",
   "pygments_lexer": "ipython3",
   "version": "3.9.6"
  }
 },
 "nbformat": 4,
 "nbformat_minor": 5
}
